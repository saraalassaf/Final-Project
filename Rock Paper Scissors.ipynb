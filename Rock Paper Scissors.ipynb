{
 "cells": [
  {
   "cell_type": "code",
   "execution_count": null,
   "id": "57d38ebb",
   "metadata": {},
   "outputs": [],
   "source": [
    "def main():  \n",
    "    player1_score = 0\n",
    "    player2_score = 0\n",
    "    while player1_score < 2 and player2_score < 2:\n",
    "        player1_move = input(\"Player 1 choose (rock, paper, scissors): \")\n",
    "        possibilities = [\"rock\", \"paper\", \"scissors\"]\n",
    "        player2_move = input(\"Player 2 choose (rock, paper, scissors): \")\n",
    "        if player1_move != \"rock\" and player1_move != \"paper\" and player1_move != \"scissors\" and player2_move != \"rock\" and player2_move != \"paper\" and player2_move != \"scissors\":    \n",
    "            raise Exception(\"Check spelling: case sensitive, singular/plural sensitive\")\n",
    "        else:\n",
    "            print(f\"\\nPlayer 1's choice: {player1_move}, Player 2's choice: {player2_move}.\\n\")\n",
    "\n",
    "            if player1_move == player2_move:\n",
    "                print(f\"Both players selected {player1_move}. Tie\")\n",
    "            elif player1_move == \"rock\":\n",
    "                if player2_move == \"paper\":\n",
    "                    print(\"Paper covers rock. Player 2 wins.\")\n",
    "                    player2_score += 1\n",
    "                else:\n",
    "                    print(\"Rock smashes scissors. Player 1 wins.\")\n",
    "                    player1_score += 1\n",
    "            elif player1_move == \"scissors\":\n",
    "                if player2_move == \"paper\":\n",
    "                    print(\"Scissors cuts paper. Player 1 wins.\")\n",
    "                    player1_score += 1\n",
    "                else:\n",
    "                    print(\"Rock smashes scissors. Player 2 wins.\")\n",
    "                    player2_score += 1\n",
    "            elif player1_move == \"paper\":\n",
    "                if player2_move == \"rock\":\n",
    "                    print(\"Paper covers rock. Player 1 wins.\")\n",
    "                    player1_score += 1\n",
    "                else:\n",
    "                    print(\"Scissors cuts paper. Player 2 wins.\")\n",
    "                    player2_score += 1\n",
    "\n",
    "            print(f\"\\nPlayer 1's score is:\", player1_score)\n",
    "            print(f\"\\nPlayer 2's score is:\", player2_score)\n",
    "            \n",
    "    if player1_score > player2_score:\n",
    "        print(f\"\\nPlayer 1 is the winner :)\")\n",
    "    else:\n",
    "        print(f\"\\nPlayer 2 is the winner :)\")\n",
    "            \n",
    "\n",
    "if __name__== \"__main__\":\n",
    "    main()"
   ]
  }
 ],
 "metadata": {
  "kernelspec": {
   "display_name": "Python 3 (ipykernel)",
   "language": "python",
   "name": "python3"
  },
  "language_info": {
   "codemirror_mode": {
    "name": "ipython",
    "version": 3
   },
   "file_extension": ".py",
   "mimetype": "text/x-python",
   "name": "python",
   "nbconvert_exporter": "python",
   "pygments_lexer": "ipython3",
   "version": "3.9.13"
  }
 },
 "nbformat": 4,
 "nbformat_minor": 5
}
